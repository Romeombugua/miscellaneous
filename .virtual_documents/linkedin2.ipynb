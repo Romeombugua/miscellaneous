from selenium import webdriver
from selenium.webdriver.chrome.service import Service
import time
from selenium.webdriver.common.by import By
from selenium.webdriver import Keys
from selenium.webdriver.support.ui import WebDriverWait
from selenium.webdriver.support import expected_conditions as EC
from selenium.webdriver.common.action_chains import ActionChains
import random
from selenium.webdriver.chrome.options import Options 


driver = webdriver.Firefox()


driver.get('https://www.linkedin.com/login')

time.sleep(5)

username = driver.find_element("xpath","//input[@name='session_key']")
password = driver.find_element("xpath","//input[@name='session_password']")

time.sleep(5)



username.send_keys("alan@meditouch.co.il")

time.sleep(4)

password.send_keys('Alan_770770770')

time.sleep(2)

driver.find_element("xpath","//button[@type='submit']").click()
time.sleep(3)



driver.get("https://www.linkedin.com/mynetwork/invite-connect/connections/")

time.sleep(10)


# # Scroll down to load more connections if needed
# def scroll_to_bottom():
#     driver.execute_script("window.scrollTo(0, document.body.scrollHeight);")
#     time.sleep(2)

# # Scroll a few times to load more connections
# for _ in range(5):
#     scroll_to_bottom()

# # Try to find buttons again after scrolling
# try:
#     buttons = driver.find_elements(By.XPATH, "//button[starts-with(@class, 'artdeco-button artdeco-button--2 artdeco-button--secondary ember-view')]")
#     names = driver.find_elements(By.XPATH, "//span[starts-with(@class, 'mn-connection-card__name t-16 t-black t-bold')]"

#     # Check if the number of spans and buttons are equal
#     if len(buttons) != len(names):
#         print("Mismatch between buttons, names. Moving to the next set of results.")
#         break
#     print(f"Number of buttons found after scrolling: {len(buttons)}")
#     print(f"Number of names found after scrolling: {len(names)}")
# except Exception as e:
#     print(f"An error occurred after scrolling: {e}")



# Scroll down to load more connections if needed
def scroll_to_bottom():
    driver.execute_script("window.scrollTo(0, document.body.scrollHeight);")
    time.sleep(2)

# Click "Show more results" button if it exists
def click_show_more():
    try:
        show_more_button = driver.find_element(By.XPATH, "//button[starts-with(@class, 'artdeco-button artdeco-button--muted artdeco-button--1 artdeco-button--full artdeco-button--secondary ember-view scaffold-finite-scroll__load-button')]")
        show_more_button.click()
        time.sleep(2)
    except:
        print("No 'Show more results' button found. All connections loaded.")

# Save the name to a file
def save_name_to_file(name):
    with open("connections.txt", "a") as file:
        file.write(f"{name}\n")

# Process the specified number of connections
def process_connections(num_connections):
    total_processed = 0

    while total_processed < num_connections:
        try:
            # Get the list of buttons and names
            buttons = driver.find_elements(By.XPATH, "//button[starts-with(@class, 'artdeco-button artdeco-button--2 artdeco-button--secondary ember-view')]")
            names = driver.find_elements(By.XPATH, "//span[starts-with(@class, 'mn-connection-card__name t-16 t-black t-bold')]")

            # Check if the number of buttons and names are equal
            if len(buttons) != len(names):
                print("Mismatch between buttons and names. Loading more results.")
                break

            # Process each button and name
            for i in range(len(buttons)):
                if total_processed >= num_connections:
                    return
                name = names[i].text
                button = buttons[i]

                # Click the button and save the name
                button.click()
                time.sleep(3)
                nav_buttons = driver.find_elements(By.XPATH, "//div[starts-with(@class, 'msg-overlay-bubble-header__controls display-flex align-items-center')]//div[starts-with(@class, 'artdeco-dropdown msg-thread-actions__dropdown artdeco-dropdown--placement-bottom artdeco-dropdown--justification-right ember-view')]//button[starts-with(@class, 'msg-thread-actions__control artdeco-button artdeco-button--circle artdeco-button--1 artdeco-button--muted artdeco-button--tertiary artdeco-dropdown__trigger artdeco-dropdown__trigger--placement-bottom ember-view')]")
                send_button = driver.find_element(By.XPATH, "//button[starts-with(@class, 'msg-form__send-button artdeco-button artdeco-button--1')]")
                message_area = driver.find_element(By.XPATH, "//div[starts-with(@aria-label, 'Write a message…')]")
                message_area.click()
                if nav_buttons:
                    message_area.send_keys("Hi there test")
                    nav_buttons[0].click()
                    time.sleep(4)
                    action_buttons = driver.find_elements(By.XPATH, "//div[starts-with(@class, 'msg-thread-actions__dropdown-option artdeco-dropdown__item artdeco-dropdown__item--is-dropdown ember-view')]")
                    action_buttons[0].click()
                    time.sleep(4)                    
                    # send_button.click()
                else:
                    if campaign1:
                        print(message_area.text)
                        # send_button.click()
                
                time.sleep(4)

                close_button = driver.find_element(By.XPATH, "//button[starts-with(@class, 'msg-overlay-bubble-header__control artdeco-button artdeco-button--circle artdeco-button--muted artdeco-button--1 artdeco-button--tertiary ember-view')]")
                close_button.click()
                save_name_to_file(name)
                print(f"Processed connection: {name}")
                time.sleep(3)
                total_processed += 1

            # Scroll down to load more connections if needed
            for _ in range(5):
                scroll_to_bottom()

            # Click "Show more results" if available
            click_show_more()

        except Exception as e:
            print(f"An error occurred: {e}")
            break



connections = 7
campaign1 = False
process_connections(connections)



